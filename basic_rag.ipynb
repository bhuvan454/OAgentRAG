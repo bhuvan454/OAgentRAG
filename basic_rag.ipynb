{
 "cells": [
  {
   "cell_type": "code",
   "execution_count": 9,
   "metadata": {},
   "outputs": [],
   "source": [
    "# lets build basic rag pipeline\n",
    "\n",
    "\n",
    "import os\n",
    "import sys\n",
    "import argparse\n"
   ]
  },
  {
   "cell_type": "markdown",
   "metadata": {},
   "source": [
    "## Retrival Augmented Generation\n",
    "\n",
    "\n",
    "* 1) Get the document and create indexing, this includes embedding\n",
    "* 2) project the question into same space\n",
    "* 3) use semantic search and retrive the neighbours \n",
    "* 4) pass this to llm for generation\n",
    "\n"
   ]
  },
  {
   "cell_type": "code",
   "execution_count": 1,
   "metadata": {},
   "outputs": [
    {
     "name": "stderr",
     "output_type": "stream",
     "text": [
      "c:\\Users\\bkcmk5\\Anaconda3\\envs\\llms\\Lib\\site-packages\\tqdm\\auto.py:21: TqdmWarning: IProgress not found. Please update jupyter and ipywidgets. See https://ipywidgets.readthedocs.io/en/stable/user_install.html\n",
      "  from .autonotebook import tqdm as notebook_tqdm\n"
     ]
    }
   ],
   "source": [
    "import json\n",
    "import os\n",
    "import spacy\n",
    "import faiss\n",
    "from sentence_transformers import SentenceTransformer\n",
    "# import openai\n",
    "# from dotenv import load_dotenv\n",
    "# import re\n",
    "\n",
    "# load_dotenv()\n",
    "\n",
    "# openai.api_key = os.getenv(\"OPENAI_API_KEY\")"
   ]
  },
  {
   "cell_type": "code",
   "execution_count": 2,
   "metadata": {},
   "outputs": [],
   "source": [
    "import pypdf \n",
    "\n",
    "    "
   ]
  },
  {
   "cell_type": "code",
   "execution_count": 4,
   "metadata": {},
   "outputs": [],
   "source": [
    "text = pypdf.PdfReader('Numpy_Doc.pdf')\n",
    "\n"
   ]
  },
  {
   "cell_type": "code",
   "execution_count": 5,
   "metadata": {},
   "outputs": [],
   "source": [
    "def get_text_from_pdf(pdf_file):\n",
    "    text = pypdf.PdfReader(pdf_file)\n",
    "    pages = []\n",
    "    for page in text.pages:\n",
    "        pages.append(page.extract_text())\n",
    "    return pages"
   ]
  },
  {
   "cell_type": "code",
   "execution_count": 6,
   "metadata": {},
   "outputs": [
    {
     "name": "stdout",
     "output_type": "stream",
     "text": [
      "NumPy User Guide\n",
      "Release 1.18.4\n",
      "Written by the NumPy community\n",
      "May 24, 2020\n"
     ]
    }
   ],
   "source": [
    "pages = get_text_from_pdf('Numpy_Doc.pdf')\n"
   ]
  },
  {
   "cell_type": "code",
   "execution_count": 11,
   "metadata": {},
   "outputs": [
    {
     "name": "stdout",
     "output_type": "stream",
     "text": [
      "CHAPTER\n",
      "ONE\n",
      "SETTING UP\n",
      "1.1 What is NumPy?\n",
      "NumPy is the fundamental package for scientiﬁc computing in Python. It is a Python library that provides a multidi-\n",
      "mensional array object, various derived objects (such as masked arrays and matrices), and an assortment of routines for\n",
      "fast operations on arrays, including mathematical, logical, shape manipulation, sorting, selecting, I/O, discrete Fourier\n",
      "transforms, basic linear algebra, basic statistical operations, random simulation and much more.\n",
      "At the core of the NumPy package, is the ndarray object. This encapsulates n-dimensional arrays of homogeneous\n",
      "data types, with many operations being performed in compiled code for performance. There are several important\n",
      "differences between NumPy arrays and the standard Python sequences:\n",
      "• NumPy arrays have a ﬁxed size at creation, unlike Python lists (which can grow dynamically). Changing the\n",
      "size of an ndarray will create a new array and delete the original.\n",
      "• The elements in a NumPy array are all required to be of the same data type, and thus will be the same size in\n",
      "memory. The exception: one can have arrays of (Python, including NumPy) objects, thereby allowing for arrays\n",
      "of different sized elements.\n",
      "• NumPy arrays facilitate advanced mathematical and other types of operations on large numbers of data. Typi-\n",
      "cally, such operations are executed more efﬁciently and with less code than is possible using Python’s built-in\n",
      "sequences.\n",
      "• A growing plethora of scientiﬁc and mathematical Python-based packages are using NumPy arrays; though\n",
      "these typically support Python-sequence input, they convert such input to NumPy arrays prior to processing,\n",
      "and they often output NumPy arrays. In other words, in order to efﬁciently use much (perhaps even most)\n",
      "of today’s scientiﬁc/mathematical Python-based software, just knowing how to use Python’s built-in sequence\n",
      "types is insufﬁcient - one also needs to know how to use NumPy arrays.\n",
      "The points about sequence size and speed are particularly important in scientiﬁc computing. As a simple example,\n",
      "consider the case of multiplying each element in a 1-D sequence with the corresponding element in another sequence\n",
      "of the same length. If the data are stored in two Python lists, aandb, we could iterate over each element:\n",
      "c = []\n",
      "foriinrange(len(a)):\n",
      "c.append(a[i] *b[i])\n",
      "This produces the correct answer, but if aandbeach contain millions of numbers, we will pay the price for the\n",
      "inefﬁciencies of looping in Python. We could accomplish the same task much more quickly in C by writing (for clarity\n",
      "we neglect variable declarations and initializations, memory allocation, etc.)\n",
      "for(i = 0; i < rows; i++): {\n",
      "c[i] = a[i] *b[i];\n",
      "}\n",
      "3\n"
     ]
    }
   ],
   "source": [
    "print(pages[6])"
   ]
  },
  {
   "cell_type": "code",
   "execution_count": 16,
   "metadata": {},
   "outputs": [],
   "source": [
    "def chunk_text(text, chunk_size=1):\n",
    "    chunks = []\n",
    "    for i in range(0, len(text), chunk_size):\n",
    "        chunks.append(text[i:i+chunk_size])\n",
    "    return chunks"
   ]
  },
  {
   "cell_type": "code",
   "execution_count": 17,
   "metadata": {},
   "outputs": [],
   "source": [
    "chunks = chunk_text(pages)"
   ]
  },
  {
   "cell_type": "code",
   "execution_count": 19,
   "metadata": {},
   "outputs": [
    {
     "data": {
      "text/plain": [
       "170"
      ]
     },
     "execution_count": 19,
     "metadata": {},
     "output_type": "execute_result"
    }
   ],
   "source": [
    "len(chunks)"
   ]
  },
  {
   "cell_type": "code",
   "execution_count": 20,
   "metadata": {},
   "outputs": [
    {
     "name": "stderr",
     "output_type": "stream",
     "text": [
      "modules.json: 100%|██████████| 349/349 [00:00<00:00, 363kB/s]\n",
      "c:\\Users\\bkcmk5\\Anaconda3\\envs\\llms\\Lib\\site-packages\\huggingface_hub\\file_download.py:149: UserWarning: `huggingface_hub` cache-system uses symlinks by default to efficiently store duplicated files but your machine does not support them in C:\\Users\\bkcmk5\\.cache\\huggingface\\hub\\models--sentence-transformers--all-mpnet-base-v2. Caching files will still work but in a degraded version that might require more space on your disk. This warning can be disabled by setting the `HF_HUB_DISABLE_SYMLINKS_WARNING` environment variable. For more details, see https://huggingface.co/docs/huggingface_hub/how-to-cache#limitations.\n",
      "To support symlinks on Windows, you either need to activate Developer Mode or to run Python as an administrator. In order to see activate developer mode, see this article: https://docs.microsoft.com/en-us/windows/apps/get-started/enable-your-device-for-development\n",
      "  warnings.warn(message)\n",
      "config_sentence_transformers.json: 100%|██████████| 116/116 [00:00<00:00, 116kB/s]\n",
      "README.md: 100%|██████████| 10.6k/10.6k [00:00<00:00, 10.4MB/s]\n",
      "sentence_bert_config.json: 100%|██████████| 53.0/53.0 [00:00<?, ?B/s]\n",
      "config.json: 100%|██████████| 571/571 [00:00<00:00, 282kB/s]\n",
      "model.safetensors: 100%|██████████| 438M/438M [00:12<00:00, 36.1MB/s] \n",
      "tokenizer_config.json: 100%|██████████| 363/363 [00:00<?, ?B/s] \n",
      "vocab.txt: 100%|██████████| 232k/232k [00:00<00:00, 2.34MB/s]\n",
      "tokenizer.json: 100%|██████████| 466k/466k [00:00<00:00, 6.62MB/s]\n",
      "special_tokens_map.json: 100%|██████████| 239/239 [00:00<00:00, 240kB/s]\n",
      "1_Pooling/config.json: 100%|██████████| 190/190 [00:00<00:00, 180kB/s]\n"
     ]
    }
   ],
   "source": [
    "model = SentenceTransformer('sentence-transformers/all-mpnet-base-v2')\n",
    "\n",
    "# embeddings = model.encode(sentences, show_progress_bar=True)\n",
    "\n",
    "# faiss_index = faiss.IndexFlatIP(model.get_sentence_embedding_dimension())\n",
    "# faiss_index.add(embeddings)"
   ]
  },
  {
   "cell_type": "code",
   "execution_count": 24,
   "metadata": {},
   "outputs": [
    {
     "name": "stderr",
     "output_type": "stream",
     "text": [
      "Batches:   0%|          | 0/6 [00:00<?, ?it/s]"
     ]
    },
    {
     "name": "stderr",
     "output_type": "stream",
     "text": [
      "Batches: 100%|██████████| 6/6 [01:55<00:00, 19.20s/it]\n"
     ]
    }
   ],
   "source": [
    "sentences = [chunk[0] for chunk in chunks]\n",
    "embeddings = model.encode(sentences, show_progress_bar=True)"
   ]
  },
  {
   "cell_type": "code",
   "execution_count": 25,
   "metadata": {},
   "outputs": [
    {
     "data": {
      "text/plain": [
       "(170, 768)"
      ]
     },
     "execution_count": 25,
     "metadata": {},
     "output_type": "execute_result"
    }
   ],
   "source": [
    "embeddings.shape"
   ]
  },
  {
   "cell_type": "code",
   "execution_count": 27,
   "metadata": {},
   "outputs": [
    {
     "data": {
      "text/plain": [
       "(768,)"
      ]
     },
     "execution_count": 27,
     "metadata": {},
     "output_type": "execute_result"
    }
   ],
   "source": [
    "# numpy list \n",
    "question = \"how to create a numpy array\"\n",
    "\n",
    "query_embedding = model.encode(question)\n",
    "\n",
    "query_embedding.shape"
   ]
  },
  {
   "cell_type": "code",
   "execution_count": 28,
   "metadata": {},
   "outputs": [
    {
     "data": {
      "text/plain": [
       "768"
      ]
     },
     "execution_count": 28,
     "metadata": {},
     "output_type": "execute_result"
    }
   ],
   "source": [
    "model.get_sentence_embedding_dimension()"
   ]
  },
  {
   "cell_type": "code",
   "execution_count": 29,
   "metadata": {},
   "outputs": [],
   "source": [
    "# use the \n",
    "\n",
    "faiss_index = faiss.IndexFlatIP(model.get_sentence_embedding_dimension())\n",
    "faiss_index.add(embeddings)"
   ]
  },
  {
   "cell_type": "code",
   "execution_count": 48,
   "metadata": {},
   "outputs": [],
   "source": [
    "k = 20\n",
    "question = \"how to define the numpy array?\"\n",
    "\n",
    "query_embedding = model.encode([question])\n",
    "distances, indices = faiss_index.search(query_embedding, k)"
   ]
  },
  {
   "cell_type": "code",
   "execution_count": 49,
   "metadata": {},
   "outputs": [
    {
     "name": "stdout",
     "output_type": "stream",
     "text": [
      "NumPy User Guide, Release 1.18.4\n",
      "2.2.1 An example\n",
      ">>> import numpy as np\n",
      ">>>a = np.arange(15).reshape(3, 5)\n",
      ">>>a\n",
      "array([[ 0, 1, 2, 3, 4],\n",
      "[ 5, 6, 7, 8, 9],\n",
      "[10, 11, 12, 13, 14]])\n",
      ">>>a.shape\n",
      "(3, 5)\n",
      ">>>a.ndim\n",
      "2\n",
      ">>>a.dtype.name\n",
      "'int64'\n",
      ">>>a.itemsize\n",
      "8\n",
      ">>>a.size\n",
      "15\n",
      ">>>type(a)\n",
      "<type 'numpy.ndarray'>\n",
      ">>>b = np.array([6, 7, 8])\n",
      ">>>b\n",
      "array([6, 7, 8])\n",
      ">>>type(b)\n",
      "<type 'numpy.ndarray'>\n",
      "2.2.2 Array Creation\n",
      "There are several ways to create arrays.\n",
      "For example, you can create an array from a regular Python list or tuple using the array function. The type of the\n",
      "resulting array is deduced from the type of the elements in the sequences.\n",
      ">>> import numpy as np\n",
      ">>>a = np.array([2,3,4])\n",
      ">>>a\n",
      "array([2, 3, 4])\n",
      ">>>a.dtype\n",
      "dtype('int64')\n",
      ">>>b = np.array([1.2, 3.5, 5.1])\n",
      ">>>b.dtype\n",
      "dtype('float64')\n",
      "A frequent error consists in calling array with multiple numeric arguments, rather than providing a single list of\n",
      "numbers as an argument.\n",
      ">>>a = np.array(1,2,3,4) # WRONG\n",
      ">>>a = np.array([1,2,3,4]) # RIGHT\n",
      "array transforms sequences of sequences into two-dimensional arrays, sequences of sequences of sequences into\n",
      "three-dimensional arrays, and so on.\n",
      ">>>b = np.array([(1.5,2,3), (4,5,6)])\n",
      ">>>b\n",
      "array([[ 1.5, 2. , 3. ],\n",
      "[ 4. , 5. , 6. ]])\n",
      "10 Chapter 2. Quickstart tutorial\n"
     ]
    }
   ],
   "source": [
    "# get document with highest score\n",
    "print(sentences[indices[0][0]])"
   ]
  },
  {
   "cell_type": "code",
   "execution_count": 50,
   "metadata": {},
   "outputs": [
    {
     "data": {
      "text/plain": [
       "array([ 40,  50,  14,  83, 136,  55, 123, 108,  66], dtype=int64)"
      ]
     },
     "execution_count": 50,
     "metadata": {},
     "output_type": "execute_result"
    }
   ],
   "source": [
    "indices[0][1:10]"
   ]
  },
  {
   "cell_type": "code",
   "execution_count": 51,
   "metadata": {},
   "outputs": [
    {
     "data": {
      "image/png": "[encoded data removed]",
      "text/plain": [
       "<Figure size 640x480 with 1 Axes>"
      ]
     },
     "metadata": {},
     "output_type": "display_data"
    }
   ],
   "source": [
    "# I want to visualzie the embeddings in 2D space for both the query and top 10 documents\n",
    "\n",
    "# I will use umap for this\n",
    "\n",
    "import umap\n",
    "import matplotlib.pyplot as plt\n",
    "\n",
    "umap_model = umap.UMAP(n_neighbors=5, metric='cosine')\n",
    "\n",
    "results_embedding = [embeddings[i] for i in indices[0]]\n",
    "results_embedding = umap_model.fit_transform(results_embedding)\n",
    "\n",
    "# query embedding\n",
    "query_embedding = umap_model.transform(query_embedding)\n",
    "\n",
    "plt.scatter(query_embedding[0][0], query_embedding[0][1], color='red')\n",
    "plt.scatter(results_embedding[:, 0], results_embedding[:, 1], color='blue')\n",
    "\n",
    "plt.show()"
   ]
  },
  {
   "cell_type": "code",
   "execution_count": 54,
   "metadata": {},
   "outputs": [],
   "source": [
    "from transformers import AutoTokenizer"
   ]
  },
  {
   "cell_type": "code",
   "execution_count": 55,
   "metadata": {},
   "outputs": [
    {
     "name": "stderr",
     "output_type": "stream",
     "text": [
      "Special tokens have been added in the vocabulary, make sure the associated word embeddings are fine-tuned or trained.\n"
     ]
    }
   ],
   "source": [
    "model_id = \"CohereForAI/c4ai-command-r-v01\"\n",
    "tokenizer = AutoTokenizer.from_pretrained(model_id)"
   ]
  },
  {
   "cell_type": "code",
   "execution_count": null,
   "metadata": {},
   "outputs": [],
   "source": []
  },
  {
   "cell_type": "code",
   "execution_count": 57,
   "metadata": {},
   "outputs": [
    {
     "name": "stdout",
     "output_type": "stream",
     "text": [
      "[5, 255000, 255008, 10, 29536, 5887, 56584, 206, 2162, 17777, 1709, 2075, 7707, 11600, 4042, 1709, 1690, 7499, 10514, 1728, 3971, 12299, 20008, 21, 5602, 2548, 11205, 8397, 1875, 1955, 39104, 1888, 215549, 21, 206, 206, 10, 5729, 5887, 56584, 206, 1924, 27804, 35913, 206, 5659, 1955, 1671, 13059, 155475, 21024, 19410, 1943, 96213, 1889, 1726, 3153, 3022, 21, 3012, 1955, 89525, 1943, 1671, 3460, 1719, 9468, 19, 1728, 2092, 5854, 1801, 1726, 2789, 1728, 37501, 1690, 7150, 1719, 3172, 9468, 1726, 3349, 3153, 1690, 5161, 21, 3012, 2191, 3815, 1671, 20998, 5824, 3475, 9745, 1728, 1671, 5161, 19, 20499, 1865, 1844, 248218, 1988, 1690, 5161, 21, 3012, 2191, 3118, 3815, 1671, 6452, 23770, 197009, 1933, 3119, 6473, 1719, 6475, 1726, 13897, 21, 5411, 1933, 11205, 1690, 5161, 1914, 14912, 19, 1933, 68755, 2092, 11506, 1709, 2092, 24679, 19, 8250, 1726, 4042, 17777, 21, 206, 206, 10, 13986, 5887, 56584, 206, 1924, 17411, 1728, 29047, 206, 5659, 3153, 3022, 11205, 2313, 8397, 1728, 2543, 14912, 21037, 6538, 21, 3012, 2191, 1818, 10495, 1671, 3714, 9262, 7748, 1719, 14912, 1812, 2157, 21389, 1719, 20048, 21, 3012, 2191, 1818, 23136, 1865, 1671, 9262, 5642, 1719, 6635, 22852, 1888, 6799, 9468, 1726, 3153, 1933, 19, 2274, 1933, 2789, 1726, 5275, 2092, 11205, 21, 3012, 3337, 5916, 1812, 13411, 1690, 5161, 1914, 6147, 1843, 3349, 1933, 2063, 19, 2274, 2191, 1818, 9262, 20, 126190, 21, 206, 206, 1924, 29225, 19700, 206, 82736, 1690, 5161, 31036, 1794, 1671, 3878, 3971, 1719, 11205, 19, 1933, 3337, 11205, 1709, 5003, 50199, 19, 3703, 9682, 47429, 1728, 55120, 21, 255001, 255000, 255006, 221396, 1690, 15949, 211829, 1709, 1690, 3845, 38, 255001, 255000, 255008, 35, 22219, 37, 206, 13984, 33, 228, 23, 206, 5905, 33, 29071, 205159, 206, 2805, 33, 23955, 205159, 1955, 1690, 83599, 11904, 2316, 1726, 228, 24, 25, 25, 11414, 1709, 8458, 21, 206, 206, 13984, 33, 228, 24, 206, 5905, 33, 63635, 47471, 206, 2805, 33, 23955, 205159, 2870, 6140, 1709, 66843, 21, 206, 1965, 22219, 37, 255001, 255000, 255008, 40524, 9962, 3910, 1690, 4367, 17777, 19, 1709, 4084, 19, 9981, 3683, 1865, 1671, 2304, 4176, 21, 206, 169976, 19, 169953, 2274, 1719, 1690, 58006, 13698, 1955, 14686, 1726, 1690, 5161, 1914, 4012, 6389, 1943, 8301, 2155, 2605, 53601, 71368, 42025, 10019, 1943, 72359, 20, 99598, 3050, 1719, 5410, 10962, 21, 3490, 11610, 1955, 14686, 19, 1933, 3337, 7890, 8566, 2155, 10435, 9085, 206, 179641, 19, 169953, 2274, 1719, 1690, 58006, 13698, 5656, 28820, 1875, 3337, 1818, 33018, 1709, 1671, 3901, 11205, 1726, 1690, 5161, 1914, 4012, 6389, 1943, 8301, 2155, 42, 2699, 71368, 42025, 10019, 1671, 72359, 20, 99598, 3050, 1719, 5410, 10962, 21, 3490, 1933, 9593, 3583, 1726, 68755, 2617, 1719, 2747, 19, 1933, 3337, 7890, 8566, 2155, 10435, 9085, 206, 47089, 1817, 19, 24432, 2155, 61664, 42025, 10019, 1943, 1671, 6475, 1726, 1690, 5161, 1914, 4012, 6389, 1709, 2974, 6316, 6844, 133654, 21, 11729, 1690, 58006, 13698, 1726, 3153, 1933, 21, 5019, 2068, 18487, 2617, 89223, 1888, 150120, 90604, 21, 206, 36982, 19, 24432, 2155, 46, 76621, 11205, 42025, 10019, 1943, 1671, 6475, 1726, 1690, 5161, 1914, 4012, 6389, 1709, 2974, 6316, 6844, 133654, 21, 11729, 1690, 29807, 2154, 2567, 33, 8760, 37, 1728, 3241, 2567, 33, 8760, 37, 1726, 21155, 2595, 1671, 4594, 6778, 1988, 1671, 5410, 1709, 1690, 6635, 3144, 19, 1739, 21, 78, 2154, 2567, 33, 228, 23, 37, 3872, 4594, 1965, 2567, 33, 228, 23, 37, 1794, 1671, 4594, 1988, 5410, 228, 23, 21, 255001, 255000, 255007]\n"
     ]
    }
   ],
   "source": [
    "\n",
    "\n",
    "# define conversation input:\n",
    "conversation = [\n",
    "    {\"role\": \"user\", \"content\": \"Whats the biggest penguin in the world?\"}\n",
    "]\n",
    "# define documents to ground on:\n",
    "documents = [\n",
    "    { \"title\": \"Tall penguins\", \"text\": \"Emperor penguins are the tallest growing up to 122 cm in height.\" }, \n",
    "    { \"title\": \"Penguin habitats\", \"text\": \"Emperor penguins only live in Antarctica.\"}\n",
    "]\n",
    "\n",
    "# render the tool use prompt as a string:\n",
    "grounded_generation_prompt = tokenizer.apply_grounded_generation_template(\n",
    "    conversation,\n",
    "    documents=documents,\n",
    "    citation_mode=\"accurate\", # or \"fast\"\n",
    "    tokenize='False',\n",
    "    add_generation_prompt=True,\n",
    ")\n",
    "print(grounded_generation_prompt)"
   ]
  },
  {
   "cell_type": "code",
   "execution_count": null,
   "metadata": {},
   "outputs": [],
   "source": []
  }
 ],
 "metadata": {
  "kernelspec": {
   "display_name": "llms",
   "language": "python",
   "name": "python3"
  },
  "language_info": {
   "codemirror_mode": {
    "name": "ipython",
    "version": 3
   },
   "file_extension": ".py",
   "mimetype": "text/x-python",
   "name": "python",
   "nbconvert_exporter": "python",
   "pygments_lexer": "ipython3",
   "version": "3.12.3"
  }
 },
 "nbformat": 4,
 "nbformat_minor": 2
}
